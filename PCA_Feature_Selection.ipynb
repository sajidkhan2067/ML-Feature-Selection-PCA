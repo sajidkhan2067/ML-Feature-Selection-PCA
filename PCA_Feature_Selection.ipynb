{
  "cells": [
    {
      "cell_type": "markdown",
      "metadata": {
        "id": "view-in-github",
        "colab_type": "text"
      },
      "source": [
        "<a href=\"https://colab.research.google.com/github/sajidkhan2067/ML-Feature-Selection-PCA/blob/main/PCA_Feature_Selection.ipynb\" target=\"_parent\"><img src=\"https://colab.research.google.com/assets/colab-badge.svg\" alt=\"Open In Colab\"/></a>"
      ]
    },
    {
      "cell_type": "markdown",
      "metadata": {
        "id": "BUOSRWgeExJV"
      },
      "source": [
        "# Import the required modules."
      ]
    },
    {
      "cell_type": "code",
      "execution_count": null,
      "metadata": {
        "id": "1fJk7zmMjcFm"
      },
      "outputs": [],
      "source": [
        "import numpy as np\n",
        "import pandas as pd\n",
        "import matplotlib.pyplot as plt\n",
        "import seaborn as sns; sns.set()\n",
        "import ipaddress\n",
        "import tensorflow as tf\n",
        "from sklearn.metrics import mean_squared_error\n",
        "from sklearn import metrics\n",
        "from keras.models import Sequential, load_model\n",
        "from keras.layers import Dense, LSTM, Bidirectional\n",
        "from keras.utils.np_utils import to_categorical\n",
        "from keras.utils import np_utils\n",
        "from sklearn.model_selection import train_test_split\n",
        "from sklearn.preprocessing import LabelEncoder, StandardScaler\n",
        "from sklearn.metrics import confusion_matrix"
      ]
    },
    {
      "cell_type": "markdown",
      "metadata": {
        "id": "nmnyn-aRExJd"
      },
      "source": [
        "# Number_of_samples determine the highest number of samples(rows) from the attack and normal dataset should be read and used."
      ]
    },
    {
      "cell_type": "code",
      "execution_count": null,
      "metadata": {
        "id": "u7H2jNs1csN2"
      },
      "outputs": [],
      "source": [
        "number_of_samples = 100000\n",
        "number_of_samples_attack =100000"
      ]
    },
    {
      "cell_type": "code",
      "execution_count": null,
      "metadata": {
        "colab": {
          "base_uri": "https://localhost:8080/"
        },
        "id": "02gLfrW8Za7i",
        "outputId": "97766e68-9818-4afb-8332-a1fef4c701fd"
      },
      "outputs": [
        {
          "output_type": "stream",
          "name": "stdout",
          "text": [
            "Drive already mounted at /content/drive; to attempt to forcibly remount, call drive.mount(\"/content/drive\", force_remount=True).\n"
          ]
        }
      ],
      "source": [
        "# First, we get the data\n",
        "from google.colab import drive\n",
        "drive.mount('/content/drive')"
      ]
    },
    {
      "cell_type": "markdown",
      "metadata": {
        "id": "bKJvzoIoExJe"
      },
      "source": [
        "# Read data from attack and normal datasets located in google drive"
      ]
    },
    {
      "cell_type": "code",
      "execution_count": null,
      "metadata": {
        "id": "xuqcRePLnMYn"
      },
      "outputs": [],
      "source": [
        "dfAttack = pd.concat(\n",
        "    map(pd.read_csv, ['/content/drive/MyDrive/Colab Notebooks/LSTM/Behnam Dataset/2023/Main/Attack/12 May/12udpfloodupf2.pcap_Flow.csv', '/content/drive/MyDrive/Colab Notebooks/LSTM/Behnam Dataset/2023/Main/Attack/12 May/12udpfloodupf1.pcap_Flow.csv',\n",
        "                      '/content/drive/MyDrive/Colab Notebooks/LSTM/Behnam Dataset/2023/Main/Attack/12 May/12tcpymasupf2.pcap_Flow.csv', '/content/drive/MyDrive/Colab Notebooks/LSTM/Behnam Dataset/2023/Main/Attack/12 May/12tcpymasupf1.pcap_Flow.csv',\n",
        "                      '/content/drive/MyDrive/Colab Notebooks/LSTM/Behnam Dataset/2023/Main/Attack/12 May/12tcpxmasupf2.pcap_Flow.csv', '/content/drive/MyDrive/Colab Notebooks/LSTM/Behnam Dataset/2023/Main/Attack/12 May/12tcpxmasupf1.pcap_Flow.csv',\n",
        "                      '/content/drive/MyDrive/Colab Notebooks/LSTM/Behnam Dataset/2023/Main/Attack/12 May/12tcpurgupf2.pcap_Flow.csv', '/content/drive/MyDrive/Colab Notebooks/LSTM/Behnam Dataset/2023/Main/Attack/12 May/12tcpurgupf1.pcap_Flow.csv',\n",
        "                      '/content/drive/MyDrive/Colab Notebooks/LSTM/Behnam Dataset/2023/Main/Attack/12 May/12tcpsynupf2.pcap_Flow.csv', '/content/drive/MyDrive/Colab Notebooks/LSTM/Behnam Dataset/2023/Main/Attack/12 May/12tcpsynupf1.pcap_Flow.csv',\n",
        "                      '/content/drive/MyDrive/Colab Notebooks/LSTM/Behnam Dataset/2023/Main/Attack/12 May/12tcprstupf2.pcap_Flow.csv', '/content/drive/MyDrive/Colab Notebooks/LSTM/Behnam Dataset/2023/Main/Attack/12 May/12tcprstupf1.pcap_Flow.csv',\n",
        "                      '/content/drive/MyDrive/Colab Notebooks/LSTM/Behnam Dataset/2023/Main/Attack/12 May/12tcppushupf2.pcap_Flow.csv', '/content/drive/MyDrive/Colab Notebooks/LSTM/Behnam Dataset/2023/Main/Attack/12 May/12tcppushupf1.pcap_Flow.csv',\n",
        "                      '/content/drive/MyDrive/Colab Notebooks/LSTM/Behnam Dataset/2023/Main/Attack/12 May/12tcpfinupf2.pcap_Flow.csv', '/content/drive/MyDrive/Colab Notebooks/LSTM/Behnam Dataset/2023/Main/Attack/12 May/12tcpfinupf1.pcap_Flow.csv',\n",
        "                      '/content/drive/MyDrive/Colab Notebooks/LSTM/Behnam Dataset/2023/Main/Attack/12 May/12tcpackupf2.pcap_Flow.csv', '/content/drive/MyDrive/Colab Notebooks/LSTM/Behnam Dataset/2023/Main/Attack/12 May/12tcpackupf1.pcap_Flow.csv',\n",
        "                       '/content/drive/MyDrive/Colab Notebooks/LSTM/Behnam Dataset/2023/26 may - sample/26maytcpsynupf1.pcap_Flow.csv',\n",
        "                      '/content/drive/MyDrive/Colab Notebooks/LSTM/Behnam Dataset/2023/26 may - sample/26maytcpsynupf2.pcap_Flow.csv']),\n",
        "    ignore_index=True)\n",
        "\n",
        "\n",
        "default_value = 'attack'\n",
        "dfAttack = dfAttack.assign(Label=default_value)\n",
        "\n"
      ]
    },
    {
      "cell_type": "markdown",
      "source": [
        "# Listed the features"
      ],
      "metadata": {
        "id": "a5yJ7LNLHN2n"
      }
    },
    {
      "cell_type": "code",
      "execution_count": null,
      "metadata": {
        "id": "yuHABd2qqidC"
      },
      "outputs": [],
      "source": [
        "features=['Protocol','Flow Duration','Tot Fwd Pkts','Tot Bwd Pkts','TotLen Fwd Pkts','TotLen Bwd Pkts','Fwd Pkt Len Max','Fwd Pkt Len Min','Fwd Pkt Len Mean','Fwd Pkt Len Std','Bwd Pkt Len Max','Bwd Pkt Len Min','Bwd Pkt Len Mean','Bwd Pkt Len Std','Flow Byts/s','Flow Pkts/s','Flow IAT Mean','Flow IAT Std','Flow IAT Max','Flow IAT Min','Fwd IAT Tot','Fwd IAT Mean','Fwd IAT Std','Fwd IAT Max','Fwd IAT Min','Bwd IAT Tot','Bwd IAT Mean','Bwd IAT Std','Bwd IAT Max','Bwd IAT Min','Fwd PSH Flags','Bwd PSH Flags','Fwd URG Flags','Bwd URG Flags','Fwd Header Len','Bwd Header Len','Fwd Pkts/s','Bwd Pkts/s','Pkt Len Min','Pkt Len Max','Pkt Len Mean','Pkt Len Std','Pkt Len Var','FIN Flag Cnt','SYN Flag Cnt','RST Flag Cnt','PSH Flag Cnt','ACK Flag Cnt','URG Flag Cnt','CWE Flag Count','ECE Flag Cnt','Down/Up Ratio','Pkt Size Avg','Fwd Seg Size Avg','Bwd Seg Size Avg','Fwd Byts/b Avg','Fwd Pkts/b Avg','Fwd Blk Rate Avg','Bwd Byts/b Avg','Bwd Pkts/b Avg','Bwd Blk Rate Avg','Subflow Fwd Pkts','Subflow Fwd Byts','Subflow Bwd Pkts','Subflow Bwd Byts','Init Fwd Win Byts','Init Bwd Win Byts','Fwd Act Data Pkts','Fwd Seg Size Min','Active Mean','Active Std','Active Max','Active Min','Idle Mean','Idle Std','Idle Max','Idle Min','Label']\n",
        "featuresWithoutLabel=['Protocol','Flow Duration','Tot Fwd Pkts','Tot Bwd Pkts','TotLen Fwd Pkts','TotLen Bwd Pkts','Fwd Pkt Len Max','Fwd Pkt Len Min','Fwd Pkt Len Mean','Fwd Pkt Len Std','Bwd Pkt Len Max','Bwd Pkt Len Min','Bwd Pkt Len Mean','Bwd Pkt Len Std','Flow Byts/s','Flow Pkts/s','Flow IAT Mean','Flow IAT Std','Flow IAT Max','Flow IAT Min','Fwd IAT Tot','Fwd IAT Mean','Fwd IAT Std','Fwd IAT Max','Fwd IAT Min','Bwd IAT Tot','Bwd IAT Mean','Bwd IAT Std','Bwd IAT Max','Bwd IAT Min','Fwd PSH Flags','Bwd PSH Flags','Fwd URG Flags','Bwd URG Flags','Fwd Header Len','Bwd Header Len','Fwd Pkts/s','Bwd Pkts/s','Pkt Len Min','Pkt Len Max','Pkt Len Mean','Pkt Len Std','Pkt Len Var','FIN Flag Cnt','SYN Flag Cnt','RST Flag Cnt','PSH Flag Cnt','ACK Flag Cnt','URG Flag Cnt','CWE Flag Count','ECE Flag Cnt','Down/Up Ratio','Pkt Size Avg','Fwd Seg Size Avg','Bwd Seg Size Avg','Fwd Byts/b Avg','Fwd Pkts/b Avg','Fwd Blk Rate Avg','Bwd Byts/b Avg','Bwd Pkts/b Avg','Bwd Blk Rate Avg','Subflow Fwd Pkts','Subflow Fwd Byts','Subflow Bwd Pkts','Subflow Bwd Byts','Init Fwd Win Byts','Init Bwd Win Byts','Fwd Act Data Pkts','Fwd Seg Size Min','Active Mean','Active Std','Active Max','Active Min','Idle Mean','Idle Std','Idle Max','Idle Min']"
      ]
    },
    {
      "cell_type": "code",
      "execution_count": null,
      "metadata": {
        "id": "DnLj7pfF2dr5"
      },
      "outputs": [],
      "source": [
        "dfAttack=dfAttack[features]"
      ]
    },
    {
      "cell_type": "markdown",
      "source": [
        "#Reading benign traffic from google drive"
      ],
      "metadata": {
        "id": "G-NG5IuTHSYk"
      }
    },
    {
      "cell_type": "code",
      "execution_count": null,
      "metadata": {
        "id": "wZ-wlBPmnTfg"
      },
      "outputs": [],
      "source": [
        "dfBenign = pd.concat(\n",
        "    map(pd.read_csv, ['/content/drive/MyDrive/Colab Notebooks/LSTM/Behnam Dataset/2023/Main/Benign/30upf2.pcap_Flow.csv',\n",
        "                      '/content/drive/MyDrive/Colab Notebooks/LSTM/Behnam Dataset/2023/Main/Benign/30upf1.pcap_Flow.csv',\n",
        "                      '/content/drive/MyDrive/Colab Notebooks/LSTM/Behnam Dataset/2023/Main/Benign/30pingupf2.pcap_Flow.csv',\n",
        "                      '/content/drive/MyDrive/Colab Notebooks/LSTM/Behnam Dataset/2023/Main/Benign/30pingupf2.pcap_Flow.csv',\n",
        "                      '/content/drive/MyDrive/Colab Notebooks/LSTM/Behnam Dataset/2023/Main/Benign/30pingupf1.pcap_Flow.csv',\n",
        "                      '/content/drive/MyDrive/Colab Notebooks/LSTM/Behnam Dataset/2023/Main/Benign/30Aprilupf2.pcap_Flow.csv',\n",
        "                      '/content/drive/MyDrive/Colab Notebooks/LSTM/Behnam Dataset/2023/Main/Benign/30Aprilupf1.pcap_Flow.csv',\n",
        "                      '/content/drive/MyDrive/Colab Notebooks/LSTM/Behnam Dataset/2023/Main/Benign/30-1upf2.pcap_Flow.csv',\n",
        "                      '/content/drive/MyDrive/Colab Notebooks/LSTM/Behnam Dataset/2023/Main/Benign/30-1upf1.pcap_Flow.csv',\n",
        "                      '/content/drive/MyDrive/Colab Notebooks/LSTM/Behnam Dataset/2023/Main/Benign/29Aprilupf2.pcap_Flow.csv',\n",
        "                      '/content/drive/MyDrive/Colab Notebooks/LSTM/Behnam Dataset/2023/Main/Benign/29Aprilupf1.pcap_Flow.csv',\n",
        "                      '/content/drive/MyDrive/Colab Notebooks/LSTM/Behnam Dataset/2023/Main/Benign/2mayupf2.pcap_Flow.csv',\n",
        "                      '/content/drive/MyDrive/Colab Notebooks/LSTM/Behnam Dataset/2023/Main/Benign/2mayupf1.pcap_Flow.csv',\n",
        "                      '/content/drive/MyDrive/Colab Notebooks/LSTM/Behnam Dataset/2023/Main/Benign/2maysshupf2.pcap_Flow.csv',\n",
        "                      '/content/drive/MyDrive/Colab Notebooks/LSTM/Behnam Dataset/2023/Main/Benign/2maysshupf1.pcap_Flow.csv',\n",
        "                      '/content/drive/MyDrive/Colab Notebooks/LSTM/Behnam Dataset/2023/Main/Benign/2maydownloadupf2.pcap_Flow.csv',\n",
        "                      '/content/drive/MyDrive/Colab Notebooks/LSTM/Behnam Dataset/2023/Main/Benign/2maydownloadupf1.pcap_Flow.csv',\n",
        "                      '/content/drive/MyDrive/Colab Notebooks/LSTM/Behnam Dataset/2023/Main/Benign/2maydownload-1upf2.pcap_Flow.csv',\n",
        "                      '/content/drive/MyDrive/Colab Notebooks/LSTM/Behnam Dataset/2023/Main/Benign/2maydownload-1upf1.pcap_Flow.csv',\n",
        "                      ]),\n",
        "    ignore_index=True)\n",
        "\n",
        "\n",
        "default_value = 'Benign'\n",
        "dfBenign = dfBenign.assign(Label=default_value)\n"
      ]
    },
    {
      "cell_type": "code",
      "execution_count": null,
      "metadata": {
        "colab": {
          "base_uri": "https://localhost:8080/"
        },
        "id": "EiZsnHy62joz",
        "outputId": "504dd1da-9f22-462b-8b2c-53167162eb32"
      },
      "outputs": [
        {
          "output_type": "stream",
          "name": "stdout",
          "text": [
            "['Protocol', 'Flow Duration', 'Tot Fwd Pkts', 'Tot Bwd Pkts', 'TotLen Fwd Pkts', 'TotLen Bwd Pkts', 'Fwd Pkt Len Max', 'Fwd Pkt Len Min', 'Fwd Pkt Len Mean', 'Fwd Pkt Len Std', 'Bwd Pkt Len Max', 'Bwd Pkt Len Min', 'Bwd Pkt Len Mean', 'Bwd Pkt Len Std', 'Flow Byts/s', 'Flow Pkts/s', 'Flow IAT Mean', 'Flow IAT Std', 'Flow IAT Max', 'Flow IAT Min', 'Fwd IAT Tot', 'Fwd IAT Mean', 'Fwd IAT Std', 'Fwd IAT Max', 'Fwd IAT Min', 'Bwd IAT Tot', 'Bwd IAT Mean', 'Bwd IAT Std', 'Bwd IAT Max', 'Bwd IAT Min', 'Fwd PSH Flags', 'Bwd PSH Flags', 'Fwd URG Flags', 'Bwd URG Flags', 'Fwd Header Len', 'Bwd Header Len', 'Fwd Pkts/s', 'Bwd Pkts/s', 'Pkt Len Min', 'Pkt Len Max', 'Pkt Len Mean', 'Pkt Len Std', 'Pkt Len Var', 'FIN Flag Cnt', 'SYN Flag Cnt', 'RST Flag Cnt', 'PSH Flag Cnt', 'ACK Flag Cnt', 'URG Flag Cnt', 'CWE Flag Count', 'ECE Flag Cnt', 'Down/Up Ratio', 'Pkt Size Avg', 'Fwd Seg Size Avg', 'Bwd Seg Size Avg', 'Fwd Byts/b Avg', 'Fwd Pkts/b Avg', 'Fwd Blk Rate Avg', 'Bwd Byts/b Avg', 'Bwd Pkts/b Avg', 'Bwd Blk Rate Avg', 'Subflow Fwd Pkts', 'Subflow Fwd Byts', 'Subflow Bwd Pkts', 'Subflow Bwd Byts', 'Init Fwd Win Byts', 'Init Bwd Win Byts', 'Fwd Act Data Pkts', 'Fwd Seg Size Min', 'Active Mean', 'Active Std', 'Active Max', 'Active Min', 'Idle Mean', 'Idle Std', 'Idle Max', 'Idle Min', 'Label']\n"
          ]
        }
      ],
      "source": [
        "print(features)\n",
        "dfBenign=dfBenign[features]"
      ]
    },
    {
      "cell_type": "code",
      "execution_count": null,
      "metadata": {
        "id": "_eFcpOMfvs64",
        "colab": {
          "base_uri": "https://localhost:8080/"
        },
        "outputId": "04aae080-41aa-4dd8-ca36-bfcbd0d8d9c9"
      },
      "outputs": [
        {
          "output_type": "stream",
          "name": "stdout",
          "text": [
            "(967567, 78)\n",
            "(5267322, 78)\n"
          ]
        }
      ],
      "source": [
        "print(dfBenign.shape)\n",
        "print(dfAttack.shape)"
      ]
    },
    {
      "cell_type": "markdown",
      "source": [
        "#This code replaces infinite values (positive and negative) in the DataFrame dfAttack with NaN (Not a Number)."
      ],
      "metadata": {
        "id": "Pr_eqJ-XH_Eo"
      }
    },
    {
      "cell_type": "code",
      "execution_count": null,
      "metadata": {
        "id": "3K0lWOCTtKje"
      },
      "outputs": [],
      "source": [
        "dfAttack = dfAttack.replace([np.inf, -np.inf], np.nan)\n",
        "dfBenign = dfBenign.replace([np.inf, -np.inf], np.nan)\n"
      ]
    },
    {
      "cell_type": "markdown",
      "metadata": {
        "id": "syrwP9pTExJi"
      },
      "source": [
        "# Replace NaN values in DataFrame with the mean of each column, making changes directly in the DataFrame"
      ]
    },
    {
      "cell_type": "code",
      "execution_count": null,
      "metadata": {
        "id": "y9mp7nTl2Pwz",
        "colab": {
          "base_uri": "https://localhost:8080/"
        },
        "outputId": "60f2f02e-d7da-4df4-b238-f66c8bf6be61"
      },
      "outputs": [
        {
          "output_type": "stream",
          "name": "stderr",
          "text": [
            "<ipython-input-17-6ee1bfff7022>:1: FutureWarning: The default value of numeric_only in DataFrame.mean is deprecated. In a future version, it will default to False. In addition, specifying 'numeric_only=None' is deprecated. Select only valid columns or specify the value of numeric_only to silence this warning.\n",
            "  dfAttack.fillna(dfAttack.mean(), inplace=True)\n",
            "<ipython-input-17-6ee1bfff7022>:2: FutureWarning: The default value of numeric_only in DataFrame.mean is deprecated. In a future version, it will default to False. In addition, specifying 'numeric_only=None' is deprecated. Select only valid columns or specify the value of numeric_only to silence this warning.\n",
            "  dfBenign.fillna(dfBenign.mean(), inplace=True)\n"
          ]
        }
      ],
      "source": [
        "dfAttack.fillna(dfAttack.mean(), inplace=True)\n",
        "dfBenign.fillna(dfBenign.mean(), inplace=True)"
      ]
    },
    {
      "cell_type": "code",
      "execution_count": null,
      "metadata": {
        "id": "AooMZEUBjKag",
        "colab": {
          "base_uri": "https://localhost:8080/"
        },
        "outputId": "1cbbac64-587a-4315-9380-a0b11e63164b"
      },
      "outputs": [
        {
          "output_type": "stream",
          "name": "stdout",
          "text": [
            "(5267322, 78)\n",
            "(967567, 78)\n"
          ]
        }
      ],
      "source": [
        "print(dfAttack.shape)\n",
        "print(dfBenign.shape)"
      ]
    },
    {
      "cell_type": "code",
      "execution_count": null,
      "metadata": {
        "id": "7IxNpgX5kAMg"
      },
      "outputs": [],
      "source": [
        "#Creating Y_normal using benign traffic\n",
        "Y_normal = pd.concat([pd.DataFrame(dfBenign['Label'])], axis=0)\n",
        "#Creating Y_attack using attack traffic\n",
        "Y_attack= pd.concat([pd.DataFrame(dfAttack['Label'])], axis=0)\n",
        "#Taking same number of attack and benign traffic\n",
        "Y_attack=Y_attack.sample(n=Y_normal.shape[0])\n",
        "#Creating X_normal using benign traffic\n",
        "X_normal = pd.concat([pd.DataFrame(dfBenign[featuresWithoutLabel].values)], axis=0)\n",
        "#Creating X_attack using attack traffic\n",
        "X_attack = pd.concat([pd.DataFrame(dfAttack[featuresWithoutLabel].values)], axis=0)\n",
        "#Ssame number of attack and benign traffic\n",
        "X_attack=X_attack.sample(n=X_normal.shape[0])\n",
        "#Combining benign and attack in X\n",
        "X=np.concatenate((X_normal,X_attack))\n",
        "\n",
        "\n",
        "print(X.shape)\n",
        "print(X[0].shape)\n",
        "print(len(X))\n",
        "print(len(X_normal))\n",
        "print(len(X_attack))\n",
        "print(len(Y_normal))\n",
        "print(len(Y_attack))\n",
        "#Converting Pandas DataFrame to a one-dimensional NumPyarray\n",
        "Y_attack=Y_attack.values.flatten()\n",
        "Y_normal=Y_normal.values.flatten()\n",
        "#Combining benign and attack in Y\n",
        "Y=np.concatenate((Y_normal,Y_attack))"
      ]
    },
    {
      "cell_type": "markdown",
      "metadata": {
        "id": "pL1bwPD1ExJk"
      },
      "source": [
        "# Standardise the data"
      ]
    },
    {
      "cell_type": "code",
      "execution_count": null,
      "metadata": {
        "id": "b3xIr2rRkWMX",
        "colab": {
          "base_uri": "https://localhost:8080/"
        },
        "outputId": "bc3f1c42-d152-4725-9b27-5927718fc4f8"
      },
      "outputs": [
        {
          "output_type": "stream",
          "name": "stdout",
          "text": [
            "[[-0.28539563 -0.4090399  -0.01412572 -0.01747491 -0.00376818 -0.01603651\n",
            "   0.55471482 -0.84568056 -0.75642858  0.9714108   1.8988987  -0.80106602\n",
            "   1.1652471   2.43759471  0.01242649 -0.08146297 -0.9388192  -0.51416261\n",
            "  -0.79373649 -0.73542277 -0.36473162 -0.75444583 -0.43272035 -0.69034726\n",
            "  -0.60928681 -0.29158759 -0.24178009 -0.26771748 -0.3059247  -0.08886117\n",
            "   0.         -0.25337275  0.         -0.21658901 -0.01159776 -0.01298653\n",
            "  -0.07615525 -0.07824099 -0.80039696  1.84039318  0.29556707  1.85467792\n",
            "   1.84129124 -0.3386021   1.5710584  -0.32310493 -0.25337275 -0.5939408\n",
            "  -0.21658901 -0.2283747  -0.22917766  0.57676418  0.10972641 -0.75642858\n",
            "   1.1652471   0.          0.          0.          0.          0.\n",
            "   0.         -0.01412572 -0.00376818 -0.01747491 -0.01603651  0.\n",
            "   1.07677657 -0.01113777  0.         -0.04038649 -0.08539932 -0.06398347\n",
            "  -0.02679103 -0.74328368 -0.30229522 -0.67756583 -0.71095055]]\n",
            "(1935134, 77)\n"
          ]
        }
      ],
      "source": [
        "scalar = StandardScaler(copy=True, with_mean=True, with_std=True)\n",
        "scalar.fit(X)\n",
        "X = scalar.transform(X)\n",
        "print(X[0:1])\n",
        "print(X.shape)"
      ]
    },
    {
      "cell_type": "markdown",
      "metadata": {
        "id": "nmLOn_vBExJl"
      },
      "source": [
        "# The class field, replace value 'attack' with 0 and 'normal' with 1"
      ]
    },
    {
      "cell_type": "code",
      "execution_count": null,
      "metadata": {
        "id": "0U1VeOtEkYBX"
      },
      "outputs": [],
      "source": [
        "for i in range(0,len(Y)):\n",
        "  # print(Y[i])\n",
        "  if Y[i] ==\"attack\":\n",
        "    Y[i]=0\n",
        "  else:\n",
        "    Y[i]=1\n",
        "\n"
      ]
    },
    {
      "cell_type": "code",
      "execution_count": null,
      "metadata": {
        "id": "XJU1WjE7TocF"
      },
      "outputs": [],
      "source": [
        "#X is assigning to I because the value of X has changed several times before, so for the sake of easy calcuation it is done like that\n",
        "I=X"
      ]
    },
    {
      "cell_type": "code",
      "execution_count": null,
      "metadata": {
        "id": "tWSnDbTIM8uC",
        "colab": {
          "base_uri": "https://localhost:8080/"
        },
        "outputId": "ba64914c-4d21-48a3-cd9d-1df3dcca8455"
      },
      "outputs": [
        {
          "output_type": "stream",
          "name": "stdout",
          "text": [
            "[[-0.28539563 -0.40945496 -0.00957295 -0.01603179 -0.00378032 -0.0154674\n",
            "   0.55471482 -0.84568056 -0.90321987  0.69862799  1.8988987  -0.80106602\n",
            "   1.09908387  2.32741658  0.06890183 -0.07941868 -0.93956112 -0.51554831\n",
            "  -0.79476133 -0.73542277 -0.36502654 -0.75541023 -0.43457532 -0.69156057\n",
            "  -0.60928681 -0.29201446 -0.24242523 -0.26825663 -0.30634871 -0.0888622\n",
            "   0.         -0.25337275  0.         -0.21658901 -0.00700946 -0.01149534\n",
            "  -0.07400336 -0.07631391 -0.80039696  1.84039318  0.15426284  1.76476534\n",
            "   1.67457049 -0.3386021   1.5710584  -0.32310493 -0.25337275 -0.5939408\n",
            "  -0.21658901 -0.2283747  -0.22917766 -1.02978221 -0.04317892 -0.90321987\n",
            "   1.09908387  0.          0.          0.          0.          0.\n",
            "   0.         -0.00957295 -0.00378032 -0.01603179 -0.0154674   0.\n",
            "   1.07677657 -0.01113777  0.         -0.04038649 -0.08539932 -0.06398347\n",
            "  -0.02679103 -0.74328368 -0.30229522 -0.67756583 -0.71095055]]\n",
            "(1935134, 77)\n"
          ]
        }
      ],
      "source": [
        "print(X[198:199])\n",
        "print(X.shape)"
      ]
    },
    {
      "cell_type": "markdown",
      "source": [
        "The line `X_train, X_test, Y_train, Y_test = train_test_split(I, Y, test_size=0.2, random_state=42)` is using the `train_test_split` function from a machine learning library, likely scikit-learn.\n",
        "\n",
        "Here's a breakdown:\n",
        "\n",
        "- `I`: This is the input data (features or independent variables).\n",
        "- `Y`: This is the target variable (dependent variable or labels).\n",
        "\n",
        "The function is splitting the dataset into training and testing sets:\n",
        "\n",
        "- `X_train`: The training set of input data.\n",
        "- `X_test`: The testing set of input data.\n",
        "- `Y_train`: The training set of target variable.\n",
        "- `Y_test`: The testing set of target variable.\n",
        "\n",
        "- `test_size=0.2`: Specifies that 20% of the data will be used for testing, and the remaining 80% will be used for training.\n",
        "\n",
        "- `random_state=42`: This provides a seed for the random number generator, ensuring that the split is reproducible. Using the same seed (in this case, 42) will result in the same split every time the code is run."
      ],
      "metadata": {
        "id": "pcilQaCoHYPU"
      }
    },
    {
      "cell_type": "code",
      "execution_count": null,
      "metadata": {
        "id": "1l5ft9AblBln"
      },
      "outputs": [],
      "source": [
        "X_train, X_test, Y_train, Y_test = train_test_split(I, Y, test_size = 0.2, random_state=42)"
      ]
    },
    {
      "cell_type": "code",
      "execution_count": null,
      "metadata": {
        "id": "tqH1N1zzraKq",
        "colab": {
          "base_uri": "https://localhost:8080/"
        },
        "outputId": "14bed87d-bc5b-4835-8aba-4819e962e778"
      },
      "outputs": [
        {
          "output_type": "stream",
          "name": "stdout",
          "text": [
            "(1935134, 77)\n",
            "(1935134, 77)\n",
            "(1548107, 77)\n",
            "(387027, 77)\n",
            " \n",
            "(1548107,)\n",
            "(387027,)\n"
          ]
        }
      ],
      "source": [
        "print(X.shape)\n",
        "print(I.shape)\n",
        "print(X_train.shape)\n",
        "print(X_test.shape)\n",
        "print(\" \")\n",
        "print(Y_train.shape)\n",
        "print(Y_test.shape)"
      ]
    },
    {
      "cell_type": "code",
      "execution_count": null,
      "metadata": {
        "id": "B-Y9ZR5AhZze"
      },
      "outputs": [],
      "source": [
        "from sklearn.decomposition import PCA\n",
        "\n",
        "pca = PCA()\n",
        "X_train = pca.fit_transform(X_train)\n",
        "X_test = pca.transform(X_test)"
      ]
    },
    {
      "cell_type": "code",
      "source": [
        "print(X[0:2])\n",
        "print(X_train[0:2])"
      ],
      "metadata": {
        "id": "zdxGsp2M-RDo"
      },
      "execution_count": null,
      "outputs": []
    },
    {
      "cell_type": "code",
      "execution_count": null,
      "metadata": {
        "id": "CVwFbP-UhRVV"
      },
      "outputs": [],
      "source": [
        "#Represents the proportion of the dataset's variance explained by each principal component.\n",
        "explained_variance = pca.explained_variance_ratio_"
      ]
    },
    {
      "cell_type": "code",
      "execution_count": null,
      "metadata": {
        "id": "EagaTtmY42JC"
      },
      "outputs": [],
      "source": [
        "print(explained_variance)"
      ]
    },
    {
      "cell_type": "code",
      "execution_count": null,
      "metadata": {
        "id": "T3CFLuovhtOT"
      },
      "outputs": [],
      "source": [
        "# Create a DataFrame with the variances\n",
        "variance_df = pd.DataFrame({'Feature': featuresWithoutLabel, 'Variance': explained_variance})\n",
        "\n",
        "# Sort the variances in descending order\n",
        "sorted_variances = variance_df.sort_values(by='Variance', ascending=False)"
      ]
    },
    {
      "cell_type": "code",
      "execution_count": null,
      "metadata": {
        "id": "NLyJv3yUhyaT",
        "colab": {
          "base_uri": "https://localhost:8080/"
        },
        "outputId": "aa93d547-ad35-472f-e39b-258f10507ed0"
      },
      "outputs": [
        {
          "output_type": "stream",
          "name": "stdout",
          "text": [
            "            Feature  Variance\n",
            "0          Protocol  0.184457\n",
            "1     Flow Duration  0.141155\n",
            "2      Tot Fwd Pkts  0.119178\n",
            "3      Tot Bwd Pkts  0.095394\n",
            "4   TotLen Fwd Pkts  0.046494\n",
            "5   TotLen Bwd Pkts  0.036273\n",
            "6   Fwd Pkt Len Max  0.035641\n",
            "7   Fwd Pkt Len Min  0.033502\n",
            "8  Fwd Pkt Len Mean  0.032982\n",
            "9   Fwd Pkt Len Std  0.027852\n"
          ]
        }
      ],
      "source": [
        "# Print the sorted variances\n",
        "print(sorted_variances[0:10])"
      ]
    }
  ],
  "metadata": {
    "colab": {
      "machine_shape": "hm",
      "provenance": [],
      "include_colab_link": true
    },
    "kernelspec": {
      "display_name": "Python 3",
      "language": "python",
      "name": "python3"
    },
    "language_info": {
      "codemirror_mode": {
        "name": "ipython",
        "version": 3
      },
      "file_extension": ".py",
      "mimetype": "text/x-python",
      "name": "python",
      "nbconvert_exporter": "python",
      "pygments_lexer": "ipython3",
      "version": "3.5.2"
    }
  },
  "nbformat": 4,
  "nbformat_minor": 0
}